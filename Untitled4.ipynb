{
  "cells": [
    {
      "cell_type": "markdown",
      "metadata": {
        "id": "view-in-github",
        "colab_type": "text"
      },
      "source": [
        "<a href=\"https://colab.research.google.com/github/ShafaiJMI/ppt-bot/blob/main/Untitled4.ipynb\" target=\"_parent\"><img src=\"https://colab.research.google.com/assets/colab-badge.svg\" alt=\"Open In Colab\"/></a>"
      ]
    },
    {
      "cell_type": "code",
      "source": [
        "!pip install python-pptx"
      ],
      "metadata": {
        "colab": {
          "base_uri": "https://localhost:8080/"
        },
        "id": "wBTC9O1zpZ-t",
        "outputId": "7910a394-3718-4d79-d55f-a06962b4a4eb"
      },
      "execution_count": null,
      "outputs": [
        {
          "output_type": "stream",
          "name": "stdout",
          "text": [
            "Looking in indexes: https://pypi.org/simple, https://us-python.pkg.dev/colab-wheels/public/simple/\n",
            "Collecting python-pptx\n",
            "  Downloading python-pptx-0.6.21.tar.gz (10.1 MB)\n",
            "\u001b[2K     \u001b[90m━━━━━━━━━━━━━━━━━━━━━━━━━━━━━━━━━━━━━━━━\u001b[0m \u001b[32m10.1/10.1 MB\u001b[0m \u001b[31m50.5 MB/s\u001b[0m eta \u001b[36m0:00:00\u001b[0m\n",
            "\u001b[?25h  Preparing metadata (setup.py) ... \u001b[?25l\u001b[?25hdone\n",
            "Requirement already satisfied: lxml>=3.1.0 in /usr/local/lib/python3.10/dist-packages (from python-pptx) (4.9.2)\n",
            "Requirement already satisfied: Pillow>=3.3.2 in /usr/local/lib/python3.10/dist-packages (from python-pptx) (8.4.0)\n",
            "Collecting XlsxWriter>=0.5.7\n",
            "  Downloading XlsxWriter-3.1.0-py3-none-any.whl (152 kB)\n",
            "\u001b[2K     \u001b[90m━━━━━━━━━━━━━━━━━━━━━━━━━━━━━━━━━━━━━━\u001b[0m \u001b[32m152.7/152.7 kB\u001b[0m \u001b[31m16.4 MB/s\u001b[0m eta \u001b[36m0:00:00\u001b[0m\n",
            "\u001b[?25hBuilding wheels for collected packages: python-pptx\n",
            "  Building wheel for python-pptx (setup.py) ... \u001b[?25l\u001b[?25hdone\n",
            "  Created wheel for python-pptx: filename=python_pptx-0.6.21-py3-none-any.whl size=470949 sha256=eea2f0b9ff5c4ec35482de733b7f36a59a238f9d48e6cbcb21fc3de80bdc1955\n",
            "  Stored in directory: /root/.cache/pip/wheels/ea/dd/74/01b3ec7256a0800b99384e9a0f7620e358afc3a51a59bf9b49\n",
            "Successfully built python-pptx\n",
            "Installing collected packages: XlsxWriter, python-pptx\n",
            "Successfully installed XlsxWriter-3.1.0 python-pptx-0.6.21\n"
          ]
        }
      ]
    },
    {
      "cell_type": "code",
      "execution_count": null,
      "metadata": {
        "id": "CF_QjbcV5rAx"
      },
      "outputs": [],
      "source": [
        "import collections.abc \n",
        "from pptx import Presentation\n",
        "from pptx.util import Inches\n",
        "\n",
        "\n",
        "def PPt(query, response):\n",
        "    # Create presentation\n",
        "    prs = Presentation()\n",
        "\n",
        "    # define slidelayouts \n",
        "    slide = prs.slides.add_slide(prs.slide_layouts[0])\n",
        "\n",
        "    # title slide\n",
        "    title = slide.shapes.title\n",
        "    subtitle = slide.placeholders[1]\n",
        "    title.text = \"PptoBot\"\n",
        "    subtitle.text = \" \"\n",
        "\n",
        "    # Introduction page\n",
        "    Second_Layout = prs.slide_layouts[5]\n",
        "    second_slide = prs.slides.add_slide(Second_Layout)\n",
        "    second_slide.shapes.title.text = query\n",
        "\n",
        "    textbox = second_slide.shapes.add_textbox(Inches(3), Inches(1.5),Inches(3), Inches(1)) \n",
        "    textframe = textbox.text_frame\n",
        "    paragraph = textframe.add_paragraph()\n",
        "    paragraph.text = response\n",
        "\n",
        "    # end slide\n",
        "    slide3 = prs.slides.add_slide(prs.slide_layouts[0])\n",
        "    slide = slide3.shapes.title\n",
        "    subtitle = slide3.placeholders[1]\n",
        "    slide.text = \"End of Presentation\"\n",
        "    subtitle.text = \"Thank You\"\n",
        "\n",
        "    # export and save the presentation\n",
        "    print(\"Generating PPT for \",query)\n",
        "    prs.save(str(query+'_Presentation.pptx'))\n",
        "\n"
      ]
    },
    {
      "cell_type": "code",
      "execution_count": null,
      "metadata": {
        "id": "YUxeeYvTwsP-",
        "colab": {
          "base_uri": "https://localhost:8080/"
        },
        "outputId": "5ed87b41-8b3b-4892-e456-16c81ba6e115"
      },
      "outputs": [
        {
          "output_type": "stream",
          "name": "stdout",
          "text": [
            "Hi! I am PresentationoBot for your service\n",
            " Please Select a topic given below \n",
            " 'Data Science','A.I','M.L','IOT','C.S'\n",
            ">data mining\n",
            "Generating PPT about :  data mining\n"
          ]
        }
      ],
      "source": [
        "import nltk\n",
        "from nltk.chat.util import Chat\n",
        "import random\n",
        "import re\n",
        "\n",
        "class MyBot(Chat):\n",
        "    def __init__(self, pairs):\n",
        "        super().__init__(pairs)\n",
        "\n",
        "    def converse(self, quit=\"quit\"):\n",
        "        user_input = \"\"\n",
        "        while user_input != quit:\n",
        "            user_input = quit\n",
        "            try:\n",
        "                user_input = input(\">\")\n",
        "            except EOFError:\n",
        "                print(user_input)\n",
        "            if user_input:\n",
        "                while user_input[-1] in \"!.\":\n",
        "                    user_input = user_input[:-1]\n",
        "                PPt(user_input,self.respond(user_input))\n",
        "\n",
        "pairs = [\n",
        "[r\"data science\",\n",
        " [\"Please Select a Sub-topic You want for your presentation \\n Data Mining\",]\n",
        "],\n",
        "[r\"Data Mining\",\n",
        " [\"Data Mining is the process of extracting useful information from large sets of structured or unstructured data. It involves techniques such as clustering, classification, and regression analysis to identify patterns and relationships within the data.\",]\n",
        "],\n",
        "]\n",
        "\n",
        "def chat():\n",
        "      print(\"Hi! I am PresentationoBot for your service\\n Please Select a topic given below \\n 'Data Science','A.I','M.L','IOT','C.S'\")\n",
        "      chat = MyBot(pairs)\n",
        "      chat.converse()\n",
        "\n",
        "if __name__== \"__main__\":\n",
        "     chat()\n",
        "\n"
      ]
    },
    {
      "cell_type": "code",
      "source": [],
      "metadata": {
        "id": "9fQFk0sFkB1f"
      },
      "execution_count": null,
      "outputs": []
    }
  ],
  "metadata": {
    "colab": {
      "provenance": [],
      "authorship_tag": "ABX9TyNS0vLFwBPWL+FFVmnEDhok",
      "include_colab_link": true
    },
    "kernelspec": {
      "display_name": "Python 3",
      "name": "python3"
    },
    "language_info": {
      "name": "python"
    }
  },
  "nbformat": 4,
  "nbformat_minor": 0
}